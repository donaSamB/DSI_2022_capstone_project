{
 "cells": [
  {
   "cell_type": "code",
   "execution_count": 1429,
   "metadata": {},
   "outputs": [],
   "source": [
    "import pandas as pd\n",
    "import numpy as np\n",
    "import missingno as msno\n",
    "import re\n",
    "#from sklearn.feature_extraction.text import TfidfVectorizer\n",
    "from sklearn.metrics.pairwise import linear_kernel\n",
    "\n",
    "\n",
    "from sklearn.feature_extraction.text import CountVectorizer\n",
    "#computes the similarity between the enterd value and the valus in our df\n",
    "from sklearn.metrics.pairwise import cosine_similarity\n",
    "df = pd.read_csv('../Data/skindataall.csv')\n"
   ]
  },
  {
   "cell_type": "markdown",
   "metadata": {},
   "source": [
    "## EDA"
   ]
  },
  {
   "cell_type": "code",
   "execution_count": 1430,
   "metadata": {},
   "outputs": [
    {
     "name": "stdout",
     "output_type": "stream",
     "text": [
      "<class 'pandas.core.frame.DataFrame'>\n",
      "RangeIndex: 8649 entries, 0 to 8648\n",
      "Data columns (total 26 columns):\n",
      " #   Column               Non-Null Count  Dtype  \n",
      "---  ------               --------------  -----  \n",
      " 0   Unnamed: 0           8649 non-null   int64  \n",
      " 1   Username             8649 non-null   object \n",
      " 2   Skin_Tone            8649 non-null   object \n",
      " 3   Skin_Type            8649 non-null   object \n",
      " 4   Eye_Color            8649 non-null   object \n",
      " 5   Hair_Color           8649 non-null   object \n",
      " 6   Rating_Stars         8649 non-null   int64  \n",
      " 7   Review               8649 non-null   object \n",
      " 8   Product              8649 non-null   object \n",
      " 9   Brand                8649 non-null   object \n",
      " 10  Price                8649 non-null   int64  \n",
      " 11  Rating               8649 non-null   float64\n",
      " 12  Ingredients          8649 non-null   object \n",
      " 13  Combination          8649 non-null   int64  \n",
      " 14  Dry                  8649 non-null   int64  \n",
      " 15  Normal               8649 non-null   int64  \n",
      " 16  Oily                 8649 non-null   int64  \n",
      " 17  Sensitive            8649 non-null   int64  \n",
      " 18  Category             8649 non-null   object \n",
      " 19  Product_Url          8649 non-null   object \n",
      " 20  User_id              8649 non-null   int64  \n",
      " 21  Product_id           8649 non-null   int64  \n",
      " 22  Ingredients_Cleaned  8649 non-null   object \n",
      " 23  Review_Cleaned       8649 non-null   object \n",
      " 24  Good_Stuff           8649 non-null   int64  \n",
      " 25  Ing_Tfidf            8649 non-null   object \n",
      "dtypes: float64(1), int64(11), object(14)\n",
      "memory usage: 1.7+ MB\n"
     ]
    }
   ],
   "source": [
    "df.info()"
   ]
  },
  {
   "cell_type": "code",
   "execution_count": 1431,
   "metadata": {},
   "outputs": [
    {
     "data": {
      "text/html": [
       "<div>\n",
       "<style scoped>\n",
       "    .dataframe tbody tr th:only-of-type {\n",
       "        vertical-align: middle;\n",
       "    }\n",
       "\n",
       "    .dataframe tbody tr th {\n",
       "        vertical-align: top;\n",
       "    }\n",
       "\n",
       "    .dataframe thead th {\n",
       "        text-align: right;\n",
       "    }\n",
       "</style>\n",
       "<table border=\"1\" class=\"dataframe\">\n",
       "  <thead>\n",
       "    <tr style=\"text-align: right;\">\n",
       "      <th></th>\n",
       "      <th>Unnamed: 0</th>\n",
       "      <th>Username</th>\n",
       "      <th>Skin_Tone</th>\n",
       "      <th>Skin_Type</th>\n",
       "      <th>Eye_Color</th>\n",
       "      <th>Hair_Color</th>\n",
       "      <th>Rating_Stars</th>\n",
       "      <th>Review</th>\n",
       "      <th>Product</th>\n",
       "      <th>Brand</th>\n",
       "      <th>...</th>\n",
       "      <th>Oily</th>\n",
       "      <th>Sensitive</th>\n",
       "      <th>Category</th>\n",
       "      <th>Product_Url</th>\n",
       "      <th>User_id</th>\n",
       "      <th>Product_id</th>\n",
       "      <th>Ingredients_Cleaned</th>\n",
       "      <th>Review_Cleaned</th>\n",
       "      <th>Good_Stuff</th>\n",
       "      <th>Ing_Tfidf</th>\n",
       "    </tr>\n",
       "  </thead>\n",
       "  <tbody>\n",
       "    <tr>\n",
       "      <th>0</th>\n",
       "      <td>0</td>\n",
       "      <td>allyp3</td>\n",
       "      <td>Medium</td>\n",
       "      <td>Combination</td>\n",
       "      <td>Brown</td>\n",
       "      <td>Brunette</td>\n",
       "      <td>5</td>\n",
       "      <td>This is hands down the best cleanser I’ve ever...</td>\n",
       "      <td>Superfood Antioxidant Cleanser</td>\n",
       "      <td>YOUTH TO THE PEOPLE</td>\n",
       "      <td>...</td>\n",
       "      <td>0</td>\n",
       "      <td>0</td>\n",
       "      <td>Cleanser</td>\n",
       "      <td>https://www.sephora.com/product/kale-spinach-g...</td>\n",
       "      <td>3420</td>\n",
       "      <td>157</td>\n",
       "      <td>['sodium', 'cocoyl', 'glutamate', 'cocamidopro...</td>\n",
       "      <td>['hand', 'best', 'cleanser', 'ever', 'used', '...</td>\n",
       "      <td>1</td>\n",
       "      <td>sodium, cocoyl, glutamate, cocamidopropyl, bet...</td>\n",
       "    </tr>\n",
       "    <tr>\n",
       "      <th>1</th>\n",
       "      <td>1</td>\n",
       "      <td>PatTea</td>\n",
       "      <td>Medium</td>\n",
       "      <td>Combination</td>\n",
       "      <td>Brown</td>\n",
       "      <td>Red</td>\n",
       "      <td>1</td>\n",
       "      <td>Unfortunately this doesn’t work for everyone. ...</td>\n",
       "      <td>Superfood Antioxidant Cleanser</td>\n",
       "      <td>YOUTH TO THE PEOPLE</td>\n",
       "      <td>...</td>\n",
       "      <td>0</td>\n",
       "      <td>0</td>\n",
       "      <td>Cleanser</td>\n",
       "      <td>https://www.sephora.com/product/kale-spinach-g...</td>\n",
       "      <td>2483</td>\n",
       "      <td>157</td>\n",
       "      <td>['sodium', 'cocoyl', 'glutamate', 'cocamidopro...</td>\n",
       "      <td>['unfortunately', 'work', 'everyone', 'used', ...</td>\n",
       "      <td>0</td>\n",
       "      <td>sodium, cocoyl, glutamate, cocamidopropyl, bet...</td>\n",
       "    </tr>\n",
       "    <tr>\n",
       "      <th>2</th>\n",
       "      <td>2</td>\n",
       "      <td>Sabi1991</td>\n",
       "      <td>No data</td>\n",
       "      <td>No data</td>\n",
       "      <td>No data</td>\n",
       "      <td>No data</td>\n",
       "      <td>5</td>\n",
       "      <td>My favorite cleanser!! i love the packaging on...</td>\n",
       "      <td>Superfood Antioxidant Cleanser</td>\n",
       "      <td>YOUTH TO THE PEOPLE</td>\n",
       "      <td>...</td>\n",
       "      <td>0</td>\n",
       "      <td>0</td>\n",
       "      <td>Cleanser</td>\n",
       "      <td>https://www.sephora.com/product/kale-spinach-g...</td>\n",
       "      <td>2715</td>\n",
       "      <td>157</td>\n",
       "      <td>['sodium', 'cocoyl', 'glutamate', 'cocamidopro...</td>\n",
       "      <td>['favorite', 'cleanser', 'love', 'packaging', ...</td>\n",
       "      <td>1</td>\n",
       "      <td>sodium, cocoyl, glutamate, cocamidopropyl, bet...</td>\n",
       "    </tr>\n",
       "    <tr>\n",
       "      <th>3</th>\n",
       "      <td>3</td>\n",
       "      <td>happyface2</td>\n",
       "      <td>Fair</td>\n",
       "      <td>Dry</td>\n",
       "      <td>Blue</td>\n",
       "      <td>Blonde</td>\n",
       "      <td>5</td>\n",
       "      <td>I love all things Youth To The People! This cl...</td>\n",
       "      <td>Superfood Antioxidant Cleanser</td>\n",
       "      <td>YOUTH TO THE PEOPLE</td>\n",
       "      <td>...</td>\n",
       "      <td>0</td>\n",
       "      <td>0</td>\n",
       "      <td>Cleanser</td>\n",
       "      <td>https://www.sephora.com/product/kale-spinach-g...</td>\n",
       "      <td>4497</td>\n",
       "      <td>157</td>\n",
       "      <td>['sodium', 'cocoyl', 'glutamate', 'cocamidopro...</td>\n",
       "      <td>['love', 'thing', 'youth', 'people', 'cleanser...</td>\n",
       "      <td>1</td>\n",
       "      <td>sodium, cocoyl, glutamate, cocamidopropyl, bet...</td>\n",
       "    </tr>\n",
       "    <tr>\n",
       "      <th>4</th>\n",
       "      <td>4</td>\n",
       "      <td>kimkix34</td>\n",
       "      <td>Fair</td>\n",
       "      <td>Normal</td>\n",
       "      <td>Green</td>\n",
       "      <td>Blonde</td>\n",
       "      <td>5</td>\n",
       "      <td>I had a trial size of this and was obsessed. M...</td>\n",
       "      <td>Superfood Antioxidant Cleanser</td>\n",
       "      <td>YOUTH TO THE PEOPLE</td>\n",
       "      <td>...</td>\n",
       "      <td>0</td>\n",
       "      <td>0</td>\n",
       "      <td>Cleanser</td>\n",
       "      <td>https://www.sephora.com/product/kale-spinach-g...</td>\n",
       "      <td>5017</td>\n",
       "      <td>157</td>\n",
       "      <td>['sodium', 'cocoyl', 'glutamate', 'cocamidopro...</td>\n",
       "      <td>['trial', 'size', 'wa', 'obsessed', 'skin', 'f...</td>\n",
       "      <td>1</td>\n",
       "      <td>sodium, cocoyl, glutamate, cocamidopropyl, bet...</td>\n",
       "    </tr>\n",
       "  </tbody>\n",
       "</table>\n",
       "<p>5 rows × 26 columns</p>\n",
       "</div>"
      ],
      "text/plain": [
       "   Unnamed: 0    Username Skin_Tone    Skin_Type Eye_Color Hair_Color  \\\n",
       "0           0      allyp3    Medium  Combination     Brown   Brunette   \n",
       "1           1      PatTea    Medium  Combination     Brown        Red   \n",
       "2           2    Sabi1991   No data      No data   No data    No data   \n",
       "3           3  happyface2      Fair          Dry      Blue     Blonde   \n",
       "4           4    kimkix34      Fair       Normal     Green     Blonde   \n",
       "\n",
       "   Rating_Stars                                             Review  \\\n",
       "0             5  This is hands down the best cleanser I’ve ever...   \n",
       "1             1  Unfortunately this doesn’t work for everyone. ...   \n",
       "2             5  My favorite cleanser!! i love the packaging on...   \n",
       "3             5  I love all things Youth To The People! This cl...   \n",
       "4             5  I had a trial size of this and was obsessed. M...   \n",
       "\n",
       "                          Product                Brand  ...  Oily  Sensitive  \\\n",
       "0  Superfood Antioxidant Cleanser  YOUTH TO THE PEOPLE  ...     0          0   \n",
       "1  Superfood Antioxidant Cleanser  YOUTH TO THE PEOPLE  ...     0          0   \n",
       "2  Superfood Antioxidant Cleanser  YOUTH TO THE PEOPLE  ...     0          0   \n",
       "3  Superfood Antioxidant Cleanser  YOUTH TO THE PEOPLE  ...     0          0   \n",
       "4  Superfood Antioxidant Cleanser  YOUTH TO THE PEOPLE  ...     0          0   \n",
       "\n",
       "   Category                                        Product_Url  User_id  \\\n",
       "0  Cleanser  https://www.sephora.com/product/kale-spinach-g...     3420   \n",
       "1  Cleanser  https://www.sephora.com/product/kale-spinach-g...     2483   \n",
       "2  Cleanser  https://www.sephora.com/product/kale-spinach-g...     2715   \n",
       "3  Cleanser  https://www.sephora.com/product/kale-spinach-g...     4497   \n",
       "4  Cleanser  https://www.sephora.com/product/kale-spinach-g...     5017   \n",
       "\n",
       "   Product_id                                Ingredients_Cleaned  \\\n",
       "0         157  ['sodium', 'cocoyl', 'glutamate', 'cocamidopro...   \n",
       "1         157  ['sodium', 'cocoyl', 'glutamate', 'cocamidopro...   \n",
       "2         157  ['sodium', 'cocoyl', 'glutamate', 'cocamidopro...   \n",
       "3         157  ['sodium', 'cocoyl', 'glutamate', 'cocamidopro...   \n",
       "4         157  ['sodium', 'cocoyl', 'glutamate', 'cocamidopro...   \n",
       "\n",
       "                                      Review_Cleaned Good_Stuff  \\\n",
       "0  ['hand', 'best', 'cleanser', 'ever', 'used', '...          1   \n",
       "1  ['unfortunately', 'work', 'everyone', 'used', ...          0   \n",
       "2  ['favorite', 'cleanser', 'love', 'packaging', ...          1   \n",
       "3  ['love', 'thing', 'youth', 'people', 'cleanser...          1   \n",
       "4  ['trial', 'size', 'wa', 'obsessed', 'skin', 'f...          1   \n",
       "\n",
       "                                           Ing_Tfidf  \n",
       "0  sodium, cocoyl, glutamate, cocamidopropyl, bet...  \n",
       "1  sodium, cocoyl, glutamate, cocamidopropyl, bet...  \n",
       "2  sodium, cocoyl, glutamate, cocamidopropyl, bet...  \n",
       "3  sodium, cocoyl, glutamate, cocamidopropyl, bet...  \n",
       "4  sodium, cocoyl, glutamate, cocamidopropyl, bet...  \n",
       "\n",
       "[5 rows x 26 columns]"
      ]
     },
     "execution_count": 1431,
     "metadata": {},
     "output_type": "execute_result"
    }
   ],
   "source": [
    "df.head(5)"
   ]
  },
  {
   "cell_type": "code",
   "execution_count": 1432,
   "metadata": {},
   "outputs": [],
   "source": [
    "\n",
    "df.drop('Skin_Tone', inplace=True, axis=1)\n",
    "df.drop('Eye_Color', inplace=True, axis=1)\n",
    "df.drop('Hair_Color', inplace=True, axis=1)\n",
    "df.drop('Product_Url', inplace=True, axis=1)\n",
    "df.drop('Username', inplace=True, axis=1)\n",
    "df.drop('Good_Stuff', inplace=True, axis=1)\n",
    "df.drop('Ingredients', inplace=True, axis=1)\n",
    "df.drop('Unnamed: 0', inplace=True, axis=1)\n",
    "df.drop('Review_Cleaned', inplace=True, axis=1)\n",
    "df.drop('Price', inplace=True, axis=1)\n",
    "\n",
    "\n"
   ]
  },
  {
   "cell_type": "code",
   "execution_count": 1433,
   "metadata": {},
   "outputs": [
    {
     "name": "stdout",
     "output_type": "stream",
     "text": [
      "<class 'pandas.core.frame.DataFrame'>\n",
      "RangeIndex: 8649 entries, 0 to 8648\n",
      "Data columns (total 16 columns):\n",
      " #   Column               Non-Null Count  Dtype  \n",
      "---  ------               --------------  -----  \n",
      " 0   Skin_Type            8649 non-null   object \n",
      " 1   Rating_Stars         8649 non-null   int64  \n",
      " 2   Review               8649 non-null   object \n",
      " 3   Product              8649 non-null   object \n",
      " 4   Brand                8649 non-null   object \n",
      " 5   Rating               8649 non-null   float64\n",
      " 6   Combination          8649 non-null   int64  \n",
      " 7   Dry                  8649 non-null   int64  \n",
      " 8   Normal               8649 non-null   int64  \n",
      " 9   Oily                 8649 non-null   int64  \n",
      " 10  Sensitive            8649 non-null   int64  \n",
      " 11  Category             8649 non-null   object \n",
      " 12  User_id              8649 non-null   int64  \n",
      " 13  Product_id           8649 non-null   int64  \n",
      " 14  Ingredients_Cleaned  8649 non-null   object \n",
      " 15  Ing_Tfidf            8649 non-null   object \n",
      "dtypes: float64(1), int64(8), object(7)\n",
      "memory usage: 1.1+ MB\n"
     ]
    }
   ],
   "source": [
    "df.info()"
   ]
  },
  {
   "cell_type": "code",
   "execution_count": 1434,
   "metadata": {},
   "outputs": [
    {
     "data": {
      "text/html": [
       "<div>\n",
       "<style scoped>\n",
       "    .dataframe tbody tr th:only-of-type {\n",
       "        vertical-align: middle;\n",
       "    }\n",
       "\n",
       "    .dataframe tbody tr th {\n",
       "        vertical-align: top;\n",
       "    }\n",
       "\n",
       "    .dataframe thead th {\n",
       "        text-align: right;\n",
       "    }\n",
       "</style>\n",
       "<table border=\"1\" class=\"dataframe\">\n",
       "  <thead>\n",
       "    <tr style=\"text-align: right;\">\n",
       "      <th></th>\n",
       "      <th>Skin_Type</th>\n",
       "      <th>Rating_Stars</th>\n",
       "      <th>Review</th>\n",
       "      <th>Product</th>\n",
       "      <th>Brand</th>\n",
       "      <th>Rating</th>\n",
       "      <th>Combination</th>\n",
       "      <th>Dry</th>\n",
       "      <th>Normal</th>\n",
       "      <th>Oily</th>\n",
       "      <th>Sensitive</th>\n",
       "      <th>Category</th>\n",
       "      <th>User_id</th>\n",
       "      <th>Product_id</th>\n",
       "      <th>Ingredients_Cleaned</th>\n",
       "      <th>Ing_Tfidf</th>\n",
       "    </tr>\n",
       "  </thead>\n",
       "  <tbody>\n",
       "    <tr>\n",
       "      <th>5936</th>\n",
       "      <td>Combination</td>\n",
       "      <td>3</td>\n",
       "      <td>I used this for a week and it made my skin fee...</td>\n",
       "      <td>Martian Mattifying Melting Water-Gel Toner</td>\n",
       "      <td>SUNDAY RILEY</td>\n",
       "      <td>3.9</td>\n",
       "      <td>1</td>\n",
       "      <td>0</td>\n",
       "      <td>1</td>\n",
       "      <td>1</td>\n",
       "      <td>1</td>\n",
       "      <td>Cleanser</td>\n",
       "      <td>3284</td>\n",
       "      <td>164</td>\n",
       "      <td>['alcohol', 'denat', 'dicaprylyl', 'carbonate'...</td>\n",
       "      <td>alcohol, denat, dicaprylyl, carbonate, dimethy...</td>\n",
       "    </tr>\n",
       "    <tr>\n",
       "      <th>7831</th>\n",
       "      <td>Combination</td>\n",
       "      <td>5</td>\n",
       "      <td>I’ve always had acne and bumps that last a fai...</td>\n",
       "      <td>Rapid Relief Acne Spot Treatment</td>\n",
       "      <td>MURAD</td>\n",
       "      <td>4.1</td>\n",
       "      <td>1</td>\n",
       "      <td>0</td>\n",
       "      <td>0</td>\n",
       "      <td>1</td>\n",
       "      <td>0</td>\n",
       "      <td>Treatment</td>\n",
       "      <td>5779</td>\n",
       "      <td>215</td>\n",
       "      <td>['alcohol', 'hamamelis', 'virginiana', 'witch'...</td>\n",
       "      <td>alcohol, hamamelis, virginiana, witch, hazel, ...</td>\n",
       "    </tr>\n",
       "    <tr>\n",
       "      <th>7891</th>\n",
       "      <td>Dry</td>\n",
       "      <td>4</td>\n",
       "      <td>This was recommended by a Sephora employee but...</td>\n",
       "      <td>Retinol Fusion PM</td>\n",
       "      <td>PETER THOMAS ROTH</td>\n",
       "      <td>4.4</td>\n",
       "      <td>0</td>\n",
       "      <td>0</td>\n",
       "      <td>0</td>\n",
       "      <td>0</td>\n",
       "      <td>0</td>\n",
       "      <td>Treatment</td>\n",
       "      <td>3537</td>\n",
       "      <td>220</td>\n",
       "      <td>['cyclopentasiloxane', 'squalane', 'retinol', ...</td>\n",
       "      <td>cyclopentasiloxane, squalane, retinol, tocophe...</td>\n",
       "    </tr>\n",
       "    <tr>\n",
       "      <th>7589</th>\n",
       "      <td>Oily</td>\n",
       "      <td>5</td>\n",
       "      <td>these pore strips are so cool. i leave them on...</td>\n",
       "      <td>Pore Treatment Strips</td>\n",
       "      <td>PEACE OUT</td>\n",
       "      <td>4.2</td>\n",
       "      <td>1</td>\n",
       "      <td>1</td>\n",
       "      <td>1</td>\n",
       "      <td>1</td>\n",
       "      <td>1</td>\n",
       "      <td>Treatment</td>\n",
       "      <td>6163</td>\n",
       "      <td>185</td>\n",
       "      <td>['hydrocolloid', 'bandage', 'absorbs', 'sebum'...</td>\n",
       "      <td>hydrocolloid, bandage, absorbs, sebum, oil, de...</td>\n",
       "    </tr>\n",
       "    <tr>\n",
       "      <th>3212</th>\n",
       "      <td>No data</td>\n",
       "      <td>5</td>\n",
       "      <td>This is a serum so it's meant to go on before ...</td>\n",
       "      <td>Hungarian Water Essence</td>\n",
       "      <td>BELIF</td>\n",
       "      <td>4.3</td>\n",
       "      <td>0</td>\n",
       "      <td>0</td>\n",
       "      <td>0</td>\n",
       "      <td>0</td>\n",
       "      <td>0</td>\n",
       "      <td>Moisturizer</td>\n",
       "      <td>3035</td>\n",
       "      <td>145</td>\n",
       "      <td>['dipropylene', 'glycol', 'glycerin', 'hexaned...</td>\n",
       "      <td>dipropylene, glycol, glycerin, hexanediol, ros...</td>\n",
       "    </tr>\n",
       "  </tbody>\n",
       "</table>\n",
       "</div>"
      ],
      "text/plain": [
       "        Skin_Type  Rating_Stars  \\\n",
       "5936  Combination             3   \n",
       "7831  Combination             5   \n",
       "7891          Dry             4   \n",
       "7589         Oily             5   \n",
       "3212      No data             5   \n",
       "\n",
       "                                                 Review  \\\n",
       "5936  I used this for a week and it made my skin fee...   \n",
       "7831  I’ve always had acne and bumps that last a fai...   \n",
       "7891  This was recommended by a Sephora employee but...   \n",
       "7589  these pore strips are so cool. i leave them on...   \n",
       "3212  This is a serum so it's meant to go on before ...   \n",
       "\n",
       "                                         Product              Brand  Rating  \\\n",
       "5936  Martian Mattifying Melting Water-Gel Toner       SUNDAY RILEY     3.9   \n",
       "7831            Rapid Relief Acne Spot Treatment              MURAD     4.1   \n",
       "7891                           Retinol Fusion PM  PETER THOMAS ROTH     4.4   \n",
       "7589                       Pore Treatment Strips          PEACE OUT     4.2   \n",
       "3212                     Hungarian Water Essence              BELIF     4.3   \n",
       "\n",
       "      Combination  Dry  Normal  Oily  Sensitive     Category  User_id  \\\n",
       "5936            1    0       1     1          1     Cleanser     3284   \n",
       "7831            1    0       0     1          0    Treatment     5779   \n",
       "7891            0    0       0     0          0    Treatment     3537   \n",
       "7589            1    1       1     1          1    Treatment     6163   \n",
       "3212            0    0       0     0          0  Moisturizer     3035   \n",
       "\n",
       "      Product_id                                Ingredients_Cleaned  \\\n",
       "5936         164  ['alcohol', 'denat', 'dicaprylyl', 'carbonate'...   \n",
       "7831         215  ['alcohol', 'hamamelis', 'virginiana', 'witch'...   \n",
       "7891         220  ['cyclopentasiloxane', 'squalane', 'retinol', ...   \n",
       "7589         185  ['hydrocolloid', 'bandage', 'absorbs', 'sebum'...   \n",
       "3212         145  ['dipropylene', 'glycol', 'glycerin', 'hexaned...   \n",
       "\n",
       "                                              Ing_Tfidf  \n",
       "5936  alcohol, denat, dicaprylyl, carbonate, dimethy...  \n",
       "7831  alcohol, hamamelis, virginiana, witch, hazel, ...  \n",
       "7891  cyclopentasiloxane, squalane, retinol, tocophe...  \n",
       "7589  hydrocolloid, bandage, absorbs, sebum, oil, de...  \n",
       "3212  dipropylene, glycol, glycerin, hexanediol, ros...  "
      ]
     },
     "execution_count": 1434,
     "metadata": {},
     "output_type": "execute_result"
    }
   ],
   "source": [
    "df.sample(5)"
   ]
  },
  {
   "cell_type": "code",
   "execution_count": 1436,
   "metadata": {},
   "outputs": [
    {
     "data": {
      "text/plain": [
       "<AxesSubplot:xlabel='Skin_Type'>"
      ]
     },
     "execution_count": 1436,
     "metadata": {},
     "output_type": "execute_result"
    },
    {
     "data": {
      "image/png": "[encoded data removed]",
      "text/plain": [
       "<Figure size 432x288 with 1 Axes>"
      ]
     },
     "metadata": {
      "needs_background": "light"
     },
     "output_type": "display_data"
    }
   ],
   "source": [
    "# Distribution of users skin types \n",
    "\n",
    "majorty_skin_types = df.groupby('Skin_Type')['User_id'].count()\n",
    "majorty_skin_types.plot.bar(color= 'blue', rot= 45)"
   ]
  },
  {
   "cell_type": "code",
   "execution_count": 1437,
   "metadata": {},
   "outputs": [],
   "source": [
    "df.drop('Skin_Type', inplace=True, axis=1)"
   ]
  },
  {
   "cell_type": "code",
   "execution_count": 1438,
   "metadata": {},
   "outputs": [
    {
     "data": {
      "text/plain": [
       "Category\n",
       "Cleanser       140\n",
       "Face Mask        1\n",
       "Moisturizer     92\n",
       "Treatment       82\n",
       "Name: Product_id, dtype: int64"
      ]
     },
     "execution_count": 1438,
     "metadata": {},
     "output_type": "execute_result"
    }
   ],
   "source": [
    "no_of_items_per_cat = df.groupby('Category')['Product_id'].nunique()\n",
    "no_of_items_per_cat"
   ]
  },
  {
   "cell_type": "code",
   "execution_count": 1439,
   "metadata": {},
   "outputs": [
    {
     "data": {
      "text/plain": [
       "<AxesSubplot:xlabel='Category'>"
      ]
     },
     "execution_count": 1439,
     "metadata": {},
     "output_type": "execute_result"
    },
    {
     "data": {
      "image/png": "[encoded data removed]",
      "text/plain": [
       "<Figure size 432x288 with 1 Axes>"
      ]
     },
     "metadata": {
      "needs_background": "light"
     },
     "output_type": "display_data"
    }
   ],
   "source": [
    "#avalibality of products:\n",
    "most_ava_cat = df.groupby('Category')['Product_id'].nunique()\n",
    "most_ava_cat.plot.bar(color = 'pink', rot = 45, )\n"
   ]
  },
  {
   "cell_type": "code",
   "execution_count": 1441,
   "metadata": {},
   "outputs": [],
   "source": [
    "#removing those 24\n",
    "#REMOVING face mask\n",
    "df = df[~df.Category.str.match('Face Mask')]\n",
    "\n",
    "#RESETTING THE INDEX\n"
   ]
  },
  {
   "cell_type": "code",
   "execution_count": 1442,
   "metadata": {},
   "outputs": [
    {
     "data": {
      "text/plain": [
       "<AxesSubplot:xlabel='Category'>"
      ]
     },
     "execution_count": 1442,
     "metadata": {},
     "output_type": "execute_result"
    },
    {
     "data": {
      "image/png": "[encoded data removed]",
      "text/plain": [
       "<Figure size 432x288 with 1 Axes>"
      ]
     },
     "metadata": {
      "needs_background": "light"
     },
     "output_type": "display_data"
    }
   ],
   "source": [
    "most_ava_cat2 = df.groupby('Category')['Product_id'].nunique()\n",
    "most_ava_cat2.plot.bar(color = 'pink', rot = 45, )\n",
    "#face masks were removed"
   ]
  },
  {
   "cell_type": "code",
   "execution_count": 1443,
   "metadata": {},
   "outputs": [
    {
     "data": {
      "text/plain": [
       "<AxesSubplot:xlabel='Category'>"
      ]
     },
     "execution_count": 1443,
     "metadata": {},
     "output_type": "execute_result"
    },
    {
     "data": {
      "image/png": "[encoded data removed]",
      "text/plain": [
       "<Figure size 432x288 with 1 Axes>"
      ]
     },
     "metadata": {
      "needs_background": "light"
     },
     "output_type": "display_data"
    }
   ],
   "source": [
    "# whats the most reviewd product category\n",
    "\n",
    "most_sold_cat = df.groupby('Category')['User_id'].count()\n",
    "most_sold_cat.plot.bar(color = 'red', rot = 45, )"
   ]
  },
  {
   "cell_type": "code",
   "execution_count": 1444,
   "metadata": {},
   "outputs": [
    {
     "name": "stdout",
     "output_type": "stream",
     "text": [
      "Rating_Stars\n",
      "1     837\n",
      "2     634\n",
      "3     688\n",
      "4    1126\n",
      "5    5340\n",
      "Name: User_id, dtype: int64\n"
     ]
    }
   ],
   "source": [
    "\n",
    "#general satasfaction level of userss based on ratings \n",
    "print(df.groupby('Rating_Stars')['User_id'].count())"
   ]
  },
  {
   "cell_type": "code",
   "execution_count": 1445,
   "metadata": {},
   "outputs": [
    {
     "data": {
      "text/plain": [
       "<AxesSubplot:xlabel='Rating_Stars'>"
      ]
     },
     "execution_count": 1445,
     "metadata": {},
     "output_type": "execute_result"
    },
    {
     "data": {
      "image/png": "[encoded data removed]",
      "text/plain": [
       "<Figure size 432x288 with 1 Axes>"
      ]
     },
     "metadata": {
      "needs_background": "light"
     },
     "output_type": "display_data"
    }
   ],
   "source": [
    "#general satasfaction level of userss based on ratings (viz)\n",
    "\n",
    "most_sold_cat = df.groupby('Rating_Stars')['User_id'].count()\n",
    "most_sold_cat.plot.bar(color = 'gray', rot = 45, )"
   ]
  },
  {
   "cell_type": "code",
   "execution_count": 1446,
   "metadata": {},
   "outputs": [],
   "source": [
    "#removing reviews and user ids (no longer needed was only used for general analysis)\n",
    "df.drop('User_id', inplace=True, axis=1)\n",
    "df.drop('Review', inplace=True, axis=1)\n"
   ]
  },
  {
   "cell_type": "code",
   "execution_count": 1447,
   "metadata": {},
   "outputs": [
    {
     "data": {
      "text/plain": [
       "<AxesSubplot:>"
      ]
     },
     "execution_count": 1447,
     "metadata": {},
     "output_type": "execute_result"
    },
    {
     "data": {
      "image/png": "[encoded data removed]",
      "text/plain": [
       "<Figure size 1800x720 with 2 Axes>"
      ]
     },
     "metadata": {
      "needs_background": "light"
     },
     "output_type": "display_data"
    }
   ],
   "source": [
    "msno.matrix(df, labels=True, filter=\"bottom\", sort=\"ascending\", n=20)\n"
   ]
  },
  {
   "cell_type": "code",
   "execution_count": 1448,
   "metadata": {},
   "outputs": [
    {
     "data": {
      "text/plain": [
       "Rating_Stars             5\n",
       "Product                314\n",
       "Brand                   60\n",
       "Rating                  18\n",
       "Combination              2\n",
       "Dry                      2\n",
       "Normal                   2\n",
       "Oily                     2\n",
       "Sensitive                2\n",
       "Category                 3\n",
       "Product_id             314\n",
       "Ingredients_Cleaned    298\n",
       "Ing_Tfidf              298\n",
       "dtype: int64"
      ]
     },
     "execution_count": 1448,
     "metadata": {},
     "output_type": "execute_result"
    }
   ],
   "source": [
    "df.nunique()"
   ]
  }
 ],
 "metadata": {
  "kernelspec": {
   "display_name": "Python 3.9.12 ('base')",
   "language": "python",
   "name": "python3"
  },
  "language_info": {
   "codemirror_mode": {
    "name": "ipython",
    "version": 3
   },
   "file_extension": ".py",
   "mimetype": "text/x-python",
   "name": "python",
   "nbconvert_exporter": "python",
   "pygments_lexer": "ipython3",
   "version": "3.9.12"
  },
  "orig_nbformat": 4,
  "vscode": {
   "interpreter": {
    "hash": "d4d1e4263499bec80672ea0156c357c1ee493ec2b1c70f0acce89fc37c4a6abe"
   }
  }
 },
 "nbformat": 4,
 "nbformat_minor": 2
}
